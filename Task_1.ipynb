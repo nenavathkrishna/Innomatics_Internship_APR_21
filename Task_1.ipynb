{
 "cells": [
  {
   "cell_type": "markdown",
   "metadata": {},
   "source": [
    "# Q.1 Say \"Hello, World!\""
   ]
  },
  {
   "cell_type": "code",
   "execution_count": 1,
   "metadata": {},
   "outputs": [
    {
     "name": "stdout",
     "output_type": "stream",
     "text": [
      "Hello, World!\n"
     ]
    }
   ],
   "source": [
    "# Q.1 Say Hello world \n",
    "print(\"Hello, World!\")"
   ]
  },
  {
   "cell_type": "markdown",
   "metadata": {},
   "source": [
    "# Q.2 If-Else"
   ]
  },
  {
   "cell_type": "code",
   "execution_count": 2,
   "metadata": {},
   "outputs": [
    {
     "name": "stdout",
     "output_type": "stream",
     "text": [
      "enter any number between 1 to 100: 111\n",
      "number should be between 1 and 100\n",
      "enter any number between 1 to 100: 8\n",
      "You entered 8\n",
      "8 is even number\n",
      "Weird\n"
     ]
    }
   ],
   "source": [
    "while True:\n",
    "    try:\n",
    "        n=int(input(\"enter any number between 1 to 100: \"))\n",
    "        if n>1 and n<101:\n",
    "            print(\"You entered\",n)\n",
    "            \n",
    "            break;\n",
    "        else:\n",
    "            print(\"number should be between 1 and 100\")\n",
    "    except ValueError:\n",
    "        print(\"Enter a correct number\")\n",
    "if(n%2==0):\n",
    "    print(n, \"is even number\")\n",
    "    if n in range(2,6) or n>20:\n",
    "        print(\"Not Weird\")\n",
    "    elif n in range(6, 21):\n",
    "        print(\"Weird\")\n",
    "    \n",
    "else:\n",
    "    print(n,\"is odd\")\n",
    "    print(n, \"is wierd\" )\n",
    "    "
   ]
  },
  {
   "cell_type": "markdown",
   "metadata": {},
   "source": [
    "# Q.3  Arithmetic Operators"
   ]
  },
  {
   "cell_type": "code",
   "execution_count": 3,
   "metadata": {},
   "outputs": [
    {
     "name": "stdout",
     "output_type": "stream",
     "text": [
      "enter first integer3\n",
      "enter second integer5\n",
      "8\n",
      "-2\n",
      "15\n"
     ]
    }
   ],
   "source": [
    "a=int(input(\"enter first integer\"))\n",
    "b=int(input(\"enter second integer\"))\n",
    "\n",
    "print(a+b)\n",
    "print(a-b)\n",
    "print(a*b)"
   ]
  },
  {
   "cell_type": "markdown",
   "metadata": {},
   "source": [
    "# Q.4 Division"
   ]
  },
  {
   "cell_type": "code",
   "execution_count": 4,
   "metadata": {},
   "outputs": [
    {
     "name": "stdout",
     "output_type": "stream",
     "text": [
      "enter first integer5\n",
      "enter second integer2\n",
      "2.5\n",
      "2\n"
     ]
    }
   ],
   "source": [
    "a=int(input(\"enter first integer\"))\n",
    "b=int(input(\"enter second integer\"))\n",
    "\n",
    "print(a/b)\n",
    "print(a//b)"
   ]
  },
  {
   "cell_type": "markdown",
   "metadata": {},
   "source": [
    "# Q.5 Loops"
   ]
  },
  {
   "cell_type": "code",
   "execution_count": 5,
   "metadata": {},
   "outputs": [
    {
     "name": "stdout",
     "output_type": "stream",
     "text": [
      "enter any number: 6\n",
      "0\n",
      "1\n",
      "4\n",
      "9\n",
      "16\n",
      "25\n"
     ]
    }
   ],
   "source": [
    "n=int(input(\"enter any number: \"))\n",
    "\n",
    "for i in range(0,n):\n",
    "    print(i**2)\n",
    "    "
   ]
  },
  {
   "cell_type": "markdown",
   "metadata": {},
   "source": [
    "# Q.6 Write a function"
   ]
  },
  {
   "cell_type": "code",
   "execution_count": 6,
   "metadata": {},
   "outputs": [
    {
     "name": "stdout",
     "output_type": "stream",
     "text": [
      "enter a year: 1500\n",
      "you entered wrong year,The year should be year>1900 and year<10**5\n",
      "enter a year: 2021\n",
      "you entered 2021\n",
      "False\n"
     ]
    }
   ],
   "source": [
    "def is_leap(year):\n",
    "    leap=False\n",
    "    \n",
    "    if(year%4==0 or year%400==0):\n",
    "        leap=True\n",
    "    elif year%100==0:\n",
    "        leap=False\n",
    "        \n",
    "    return leap     \n",
    "    \n",
    "    \n",
    "\n",
    "while True:\n",
    "        try:\n",
    "            year=int(input('enter a year: '))\n",
    "            if (year>1900 and year<10**5):\n",
    "                print(\"you entered\",year)\n",
    "                break;\n",
    "            else:\n",
    "                print(\"you entered wrong year,The year should be year>1900 and year<10**5\")\n",
    "        except ValueError:\n",
    "            print(\"Enter a correct year\")\n",
    "\n",
    "print(is_leap(year))"
   ]
  },
  {
   "cell_type": "markdown",
   "metadata": {},
   "source": [
    "# Q.7 Print function"
   ]
  },
  {
   "cell_type": "code",
   "execution_count": 8,
   "metadata": {},
   "outputs": [
    {
     "name": "stdout",
     "output_type": "stream",
     "text": [
      "enter any number154\n",
      "enter a correct number:\n",
      "enter any number0\n",
      "enter a correct number:\n",
      "enter any number6\n",
      "you entered 6\n",
      "123456"
     ]
    }
   ],
   "source": [
    "while True:\n",
    "    try:\n",
    "        n=int(input(\"enter any number\"))\n",
    "        if(n>1 and n<151):\n",
    "            print(\"you entered\",n)\n",
    "            break;\n",
    "        else:\n",
    "            print(\"enter a correct number:\")\n",
    "    except ValueError:\n",
    "        print(\"enter a valid number\")\n",
    "        \n",
    "for i in range(n):\n",
    "    print(i+1,end=\"\")"
   ]
  },
  {
   "cell_type": "code",
   "execution_count": null,
   "metadata": {},
   "outputs": [],
   "source": []
  }
 ],
 "metadata": {
  "kernelspec": {
   "display_name": "Python 3",
   "language": "python",
   "name": "python3"
  },
  "language_info": {
   "codemirror_mode": {
    "name": "ipython",
    "version": 3
   },
   "file_extension": ".py",
   "mimetype": "text/x-python",
   "name": "python",
   "nbconvert_exporter": "python",
   "pygments_lexer": "ipython3",
   "version": "3.7.6"
  }
 },
 "nbformat": 4,
 "nbformat_minor": 4
}
