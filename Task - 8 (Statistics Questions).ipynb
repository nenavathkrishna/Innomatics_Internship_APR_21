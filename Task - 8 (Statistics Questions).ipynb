{
 "cells": [
  {
   "cell_type": "markdown",
   "metadata": {},
   "source": [
    "# Q.1 Binomial Distribution I"
   ]
  },
  {
   "cell_type": "markdown",
   "metadata": {},
   "source": [
    "# Task\n",
    "### The ratio of boys to girls for babies born in Russia is 1.09 :1 .  If there is 1 child born per birth, what proportion of Russian families with exactly  6 children will have at least 3 boys?\n",
    "### solution\n",
    "We can solve this problem by binomial distributions.<br>\n",
    "The binomial distribution is the probability distribution for the binomial random variable, given by the following probability mass function:\n",
    "$$ b(x,n,p)={n \\choose x}.p^x .q^{n-x} $$\n",
    "$$where, \\ x \\ = \\ The \\ number \\ of \\ successes $$\n",
    " $$n\\ =\\ The\\ total\\ number\\ of\\ trials$$\n",
    " $$p\\ =\\ The\\ probability\\ of\\ success\\ of\\ 1\\ trial $$\n",
    " $$q \\ = \\ The\\ probability\\ of\\ failure\\ of\\ 1 \\ trial \\ q,\\ where\\ q=(1-p) .$$\n",
    "\n",
    "<br>\n",
    "given that ratio of boys and girls is $1.09:1$ $$ boys=1.09$$  $$girls=1 $$\n",
    "$p$ be the probability of being a boy:\n",
    "$$ P[boys]=\\frac{1.09}{1.09+1} = \\frac{1.09}{2.09}=0.5215$$\n",
    "q  be the probability of being a girl:\n",
    "$$P[gitls]=1-p = 1-0.5215 = 0.4784 $$\n",
    "$$ n=6 \\ and \\ x=3$$\n",
    "<br>\n",
    " So\n"
   ]
  },
  {
   "cell_type": "markdown",
   "metadata": {},
   "source": [
    "### If E is the event of having at least 3 boys in a family of 6 children, then:\n",
    "$$P[E]=0.69570$$"
   ]
  },
  {
   "cell_type": "code",
   "execution_count": 1,
   "metadata": {
    "scrolled": true
   },
   "outputs": [
    {
     "name": "stdout",
     "output_type": "stream",
     "text": [
      "1.09 1\n",
      "0.696\n"
     ]
    }
   ],
   "source": [
    "import math\n",
    "\n",
    "def b(x, n, p):\n",
    "    fact= (math.factorial(n) / (math.factorial(x) * math.factorial(n-x)))\n",
    "    b= fact*(p**x)*(1-p)**(n-x)\n",
    "    return b\n",
    "\n",
    "boys, girls = list(map(float, input().split(\" \")))\n",
    "p =  boys/ (boys+girls)\n",
    "print(round(sum([b(i, 6, p) for i in range(3, 7)]), 3))"
   ]
  },
  {
   "cell_type": "code",
   "execution_count": 2,
   "metadata": {},
   "outputs": [
    {
     "data": {
      "text/plain": [
       "0.521531100478469"
      ]
     },
     "execution_count": 2,
     "metadata": {},
     "output_type": "execute_result"
    }
   ],
   "source": [
    "b=1.09\n",
    "g=1\n",
    "p=b/(b+g)\n",
    "p"
   ]
  },
  {
   "cell_type": "code",
   "execution_count": 3,
   "metadata": {},
   "outputs": [
    {
     "data": {
      "text/plain": [
       "0.521531100478469"
      ]
     },
     "execution_count": 3,
     "metadata": {},
     "output_type": "execute_result"
    }
   ],
   "source": [
    "1.09/2.09"
   ]
  },
  {
   "cell_type": "markdown",
   "metadata": {},
   "source": [
    "# Q.2 Binomial Distribution II"
   ]
  },
  {
   "cell_type": "code",
   "execution_count": 4,
   "metadata": {},
   "outputs": [
    {
     "name": "stdout",
     "output_type": "stream",
     "text": [
      "12 10\n",
      "1.0\n",
      "0.001\n"
     ]
    }
   ],
   "source": [
    "import math\n",
    "\n",
    "def b(x, n, p):\n",
    "    fact= (math.factorial(n) / (math.factorial(x) * math.factorial(n-x)))\n",
    "    b= fact*(p**x)*(1-p)**(n-x)\n",
    "    return b\n",
    "\n",
    "\n",
    "reject, n = list(map(float, input().split(\" \")))\n",
    "\n",
    "# No more than 2 pistons are rejects\n",
    "print(round(sum([b(i, n,  p/100) for i in range(0,3)]), 3))\n",
    "\n",
    "# At least 2 pistons are rejected\n",
    "print(round(sum([b(i, n,  p/100) for i in range(2, 11)]), 3))\n",
    "\n",
    "\n"
   ]
  },
  {
   "cell_type": "markdown",
   "metadata": {},
   "source": [
    "# Q.3  Normal Distribution I"
   ]
  },
  {
   "cell_type": "code",
   "execution_count": 5,
   "metadata": {},
   "outputs": [
    {
     "name": "stdout",
     "output_type": "stream",
     "text": [
      "20 2\n",
      "19.5\n",
      "20 22\n",
      "0.401\n",
      "0.341\n"
     ]
    }
   ],
   "source": [
    "import scipy.stats as st\n",
    "\n",
    "mean, std =list(map(float, input().split(\" \")))\n",
    "L = float(input())\n",
    "lower, upper =list(map(float, input().split(\" \")))\n",
    "\n",
    "plant_1=st.norm.cdf(L, mean, std)\n",
    "plant_2=st.norm.cdf(upper,mean, std)-st.norm.cdf(lower, mean, std)\n",
    "print(round(plant_1,3))\n",
    "print(round(plant_2,3))"
   ]
  },
  {
   "cell_type": "markdown",
   "metadata": {},
   "source": [
    "# or\n",
    "### The cumulative distribution function of  $X$\n",
    "\n",
    "$$ F_x(X)=P(X \\le x) $$\n",
    "\n",
    "### The cumulative distribution function for a function with normal distribution is:\n",
    "$$ \\Phi(x)=\\frac{1}{2}(1+erf (\\frac{x-\\mu}{\\sigma \\sqrt{2}})) $$"
   ]
  },
  {
   "cell_type": "code",
   "execution_count": 6,
   "metadata": {},
   "outputs": [
    {
     "name": "stdout",
     "output_type": "stream",
     "text": [
      "20 2\n",
      "19.5\n",
      "20 22\n",
      "0.401\n",
      "0.341\n"
     ]
    }
   ],
   "source": [
    "import math\n",
    "mean, std =list(map(float, input().split(\" \")))\n",
    "L = float(input())\n",
    "lower, upper =list(map(float, input().split(\" \")))\n",
    "\n",
    "cdf = lambda x: 0.5 * (1 + math.erf((x - mean) / (std * (2 ** 0.5))))# cumulative distribution function\n",
    "# Less than 19.5\n",
    "print(round(cdf(L),3))\n",
    "# Between 20 and 22\n",
    "print(round(cdf(upper) - cdf(lower),3))"
   ]
  },
  {
   "cell_type": "markdown",
   "metadata": {},
   "source": [
    "# Q.4 Normal Distribution II"
   ]
  },
  {
   "cell_type": "code",
   "execution_count": 7,
   "metadata": {},
   "outputs": [
    {
     "name": "stdout",
     "output_type": "stream",
     "text": [
      "70 10\n",
      "80\n",
      "60\n",
      "15.87\n",
      "84.13\n",
      "15.87\n"
     ]
    }
   ],
   "source": [
    "import math\n",
    "mean, std =list(map(float, input().split(\" \")))\n",
    "Higher = float(input())\n",
    "pass_ =float( input())\n",
    "cdf = lambda x: 0.5 * (1 + math.erf((x - mean) / (std * (2 ** 0.5))))# cumulative distribution function\n",
    "\n",
    "# Scored higher than  80\n",
    "L=100*(1-cdf(Higher))\n",
    "print(round(L,2))\n",
    "\n",
    "#Passed the test(have a grade >= 60)\n",
    "p_grade=100*(1-cdf(pass_))\n",
    "print(round(p_grade,2))\n",
    "\n",
    "# Failed the test(have a grade < 60)\n",
    "f_grade=100*cdf(pass_)\n",
    "print(round(f_grade,2))"
   ]
  },
  {
   "cell_type": "markdown",
   "metadata": {},
   "source": [
    "# Q.5 The Central Limit Theorem I\n",
    "when n $\\geq 30$ then we can use CLT\n",
    "\n",
    "The sample average:\n",
    "$$ s_n = \\frac{\\sum_{i} X_i}{N} $$\n",
    "\n",
    "For large n, the distribution of sample sums $s_n$ is close to normal distribution $N(\\mu^\\prime,\\sigma^\\prime)$  where:\n",
    "$$ \\mu^\\prime = n \\times \\mu $$\n",
    "$$ \\sigma^\\prime = \\sqrt{n} \\times \\sigma $$"
   ]
  },
  {
   "cell_type": "code",
   "execution_count": 8,
   "metadata": {},
   "outputs": [
    {
     "name": "stdout",
     "output_type": "stream",
     "text": [
      "9800\n",
      "49\n",
      "205\n",
      "15\n",
      "0.0098\n"
     ]
    }
   ],
   "source": [
    "import math\n",
    "max_weight=int(input())\n",
    "N=int(input())# no. of boxes in cargo\n",
    "mean=int(input())\n",
    "std=int(input())\n",
    "\n",
    "mean_prime=N*mean\n",
    "std_prime=math.sqrt(N)*std\n",
    "\n",
    "\n",
    "cdf= lambda x:0.5*(1 + math.erf((x -  mean_prime)/std_prime/(math.sqrt(2))))\n",
    "\n",
    "print(round(cdf(max_weight), 4))"
   ]
  },
  {
   "cell_type": "markdown",
   "metadata": {},
   "source": [
    "# Q.6 The Central Limit Theorem II"
   ]
  },
  {
   "cell_type": "code",
   "execution_count": 9,
   "metadata": {},
   "outputs": [
    {
     "name": "stdout",
     "output_type": "stream",
     "text": [
      "250\n",
      "100\n",
      "2.4\n",
      "2.0\n",
      "0.6915\n"
     ]
    }
   ],
   "source": [
    "import math\n",
    "tickets=float(input())\n",
    "N=float(input())# no. of boxes in cargo\n",
    "mean=float(input())\n",
    "std=float(input())\n",
    "\n",
    "mean_prime=N*mean\n",
    "std_prime=math.sqrt(N)*std\n",
    "\n",
    "cdf= lambda x:0.5*(1 + math.erf((x -  mean_prime)/std_prime/(math.sqrt(2))))\n",
    "\n",
    "print(round(cdf(tickets), 4))"
   ]
  },
  {
   "cell_type": "markdown",
   "metadata": {},
   "source": [
    "# Q.7 The Central Limit Theorem III"
   ]
  },
  {
   "cell_type": "code",
   "execution_count": 10,
   "metadata": {},
   "outputs": [
    {
     "name": "stdout",
     "output_type": "stream",
     "text": [
      "100\n",
      "500\n",
      "80\n",
      "0.95\n",
      "1.96\n",
      "484.32\n",
      "515.68\n"
     ]
    }
   ],
   "source": [
    "N=int(input())\n",
    "mean=int(input())\n",
    "std=int(input())\n",
    "d_per=float(input())\n",
    "Z=float(input())\n",
    "\n",
    "A=mean - (std / (N**0.5))* Z\n",
    "B=mean + (std / (N**0.5))* Z\n",
    "print(A)\n",
    "print(B)"
   ]
  },
  {
   "cell_type": "markdown",
   "metadata": {},
   "source": [
    "# Q.8 Pearson Correlation Coefficient I"
   ]
  },
  {
   "cell_type": "code",
   "execution_count": 12,
   "metadata": {},
   "outputs": [
    {
     "name": "stdout",
     "output_type": "stream",
     "text": [
      "10\n",
      "10 9.8 8 7.8 7.7 7 6 5 4 2\n",
      "200 44 32 24 22 17 15 12 8 4\n",
      "0.612472193720848\n"
     ]
    }
   ],
   "source": [
    "from scipy.stats import pearsonr\n",
    "\n",
    "N = int(input())\n",
    "X = list(map(float,input().strip().split()))\n",
    "Y = list(map(float,input().strip().split()))\n",
    "corr, _ = pearsonr(X, Y)\n",
    "print(corr)\n"
   ]
  },
  {
   "cell_type": "code",
   "execution_count": 13,
   "metadata": {},
   "outputs": [
    {
     "name": "stdout",
     "output_type": "stream",
     "text": [
      "10\n",
      "10 9.8 8 7.8 7.7 7 6 5 4 2\n",
      "200 44 32 24 22 17 15 12 8 4\n",
      "0.612\n"
     ]
    }
   ],
   "source": [
    "\n",
    "N = int(input())\n",
    "X = list(map(float,input().strip().split()))\n",
    "Y = list(map(float,input().strip().split()))\n",
    "\n",
    "mean_x= sum(X) / N\n",
    "mean_y = sum(Y) / N\n",
    "\n",
    "std_x = (sum([(i - mean_x)**2 for i in X]) / N)**0.5\n",
    "std_y = (sum([(i - mean_y)**2 for i in Y]) / N)**0.5\n",
    "\n",
    "\n",
    "covariance = sum([(X[i] - mean_x) * (Y[i] -mean_y) for i in range(N)])\n",
    "\n",
    "correlation_coefficient = covariance / (N * std_x * std_y)\n",
    "\n",
    "print(round(correlation_coefficient,3))"
   ]
  },
  {
   "cell_type": "markdown",
   "metadata": {},
   "source": [
    "# Q.9 Least Square Regression Line"
   ]
  },
  {
   "cell_type": "code",
   "execution_count": 14,
   "metadata": {},
   "outputs": [
    {
     "name": "stdout",
     "output_type": "stream",
     "text": [
      "95 85 \n",
      "85 95 \n",
      "80 70 \n",
      "70 65 \n",
      "60 70\n",
      "78.288\n"
     ]
    }
   ],
   "source": [
    "x, y = [], []\n",
    "for _ in range(5):\n",
    "    i = input().split()\n",
    "    x.append(int(i[0]))\n",
    "    y.append(int(i[1]))\n",
    "n = len(x)\n",
    "x_sum = sum(x)\n",
    "x_sum_sqr = x_sum**2\n",
    "x_sqr_sum = sum([x_i**2 for x_i in x])\n",
    "y_sum = sum(y)\n",
    "sum_prod_xy = 0\n",
    "for x_i,y_i in zip(x,y):\n",
    "    sum_prod_xy += (x_i*y_i)\n",
    "b = (n*sum_prod_xy - x_sum*y_sum) / (n*x_sqr_sum - x_sum_sqr)\n",
    "y_mean = y_sum/n\n",
    "x_mean = x_sum/n\n",
    "a = y_mean - b*x_mean\n",
    "\n",
    "# to make prediction\n",
    "x_test = 80\n",
    "y_test = a + b * x_test\n",
    "print(\"%.3f\" %y_test)"
   ]
  },
  {
   "cell_type": "code",
   "execution_count": 15,
   "metadata": {},
   "outputs": [
    {
     "name": "stdout",
     "output_type": "stream",
     "text": [
      "78.288\n"
     ]
    }
   ],
   "source": [
    "# Enter your code here. Read input from STDIN. Print output to STDOUT\n",
    "from sklearn import linear_model\n",
    "import numpy as np\n",
    "xl = [95, 85, 80, 70, 60]\n",
    "x = np.asarray(xl).reshape(-1, 1)\n",
    "y = [85, 95, 70, 65, 70]\n",
    "lm = linear_model.LinearRegression()\n",
    "lm.fit(x, y)\n",
    "print('%0.3f' % (lm.intercept_ + 80.0 * lm.coef_[0]))"
   ]
  },
  {
   "cell_type": "markdown",
   "metadata": {},
   "source": [
    "# Q.10 Multiple Linear Regression"
   ]
  },
  {
   "cell_type": "code",
   "execution_count": 17,
   "metadata": {},
   "outputs": [
    {
     "name": "stdout",
     "output_type": "stream",
     "text": [
      "2 7 \n",
      "0.18 0.89 109.85 \n",
      "1.0 0.26 155.72 \n",
      "0.92 0.11 137.66 \n",
      "0.07 0.37 76.17\n",
      " 0.85 0.16 139.75\n",
      " 0.99 0.41 162.6 \n",
      "0.87 0.47 151.77 \n",
      "4 \n",
      "0.49 0.18 \n",
      "0.57 0.83 \n",
      "0.56 0.64 \n",
      "0.76 0.18\n",
      "105.21\n",
      "142.67\n",
      "132.94\n",
      "129.7\n"
     ]
    }
   ],
   "source": [
    "# Enter your code here. Read input from STDIN. Print output to STDOUT\n",
    "import numpy as np\n",
    "m,n = [int(i) for i in input().strip().split(' ')]\n",
    "X = []\n",
    "Y = []\n",
    "for i in range(n):\n",
    "    data = input().strip().split(' ')\n",
    "    X.append(data[:m])\n",
    "    Y.append(data[m:])\n",
    "q = int(input().strip())\n",
    "X_new = []\n",
    "for x in range(q):\n",
    "    X_new.append(input().strip().split(' '))\n",
    "X = np.array(X,float)\n",
    "Y = np.array(Y,float)\n",
    "X_new = np.array(X_new,float)\n",
    "\n",
    "#center\n",
    "X_R = X-np.mean(X,axis=0)\n",
    "Y_R = Y-np.mean(Y)\n",
    "\n",
    "#calculate beta\n",
    "beta = np.dot(np.linalg.inv(np.dot(X_R.T,X_R)),np.dot(X_R.T,Y_R))\n",
    "\n",
    "#predict\n",
    "X_new_R = X_new-np.mean(X,axis=0)\n",
    "Y_new_R = np.dot(X_new_R,beta)\n",
    "Y_new = Y_new_R + np.mean(Y)\n",
    "\n",
    "#print\n",
    "for i in Y_new:\n",
    "    print(round(float(i),2))"
   ]
  },
  {
   "cell_type": "code",
   "execution_count": null,
   "metadata": {},
   "outputs": [],
   "source": []
  }
 ],
 "metadata": {
  "kernelspec": {
   "display_name": "Python 3",
   "language": "python",
   "name": "python3"
  },
  "language_info": {
   "codemirror_mode": {
    "name": "ipython",
    "version": 3
   },
   "file_extension": ".py",
   "mimetype": "text/x-python",
   "name": "python",
   "nbconvert_exporter": "python",
   "pygments_lexer": "ipython3",
   "version": "3.7.6"
  }
 },
 "nbformat": 4,
 "nbformat_minor": 4
}
