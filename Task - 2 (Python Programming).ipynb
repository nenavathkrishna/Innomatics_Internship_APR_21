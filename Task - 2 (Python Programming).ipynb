{
 "cells": [
  {
   "cell_type": "markdown",
   "metadata": {},
   "source": [
    "# Q.1 List Comprehensions"
   ]
  },
  {
   "cell_type": "code",
   "execution_count": 1,
   "metadata": {},
   "outputs": [
    {
     "name": "stdout",
     "output_type": "stream",
     "text": [
      "enter X(first) element: 2\n",
      "enter Y(second) element: 2\n",
      "enter Z(third) element: 2\n",
      "enter n element: 2\n",
      "[[0, 0, 0], [0, 0, 1], [0, 1, 0], [0, 1, 2], [0, 2, 1], [0, 2, 2], [1, 0, 0], [1, 0, 2], [1, 1, 1], [1, 1, 2], [1, 2, 0], [1, 2, 1], [1, 2, 2], [2, 0, 1], [2, 0, 2], [2, 1, 0], [2, 1, 1], [2, 1, 2], [2, 2, 0], [2, 2, 1], [2, 2, 2]]\n"
     ]
    }
   ],
   "source": [
    "x=int(input(\"enter X(first) element: \"))\n",
    "y=int(input(\"enter Y(second) element: \"))\n",
    "z=int(input(\"enter Z(third) element: \"))\n",
    "n=int(input(\"enter n element: \"))\n",
    "\n",
    "List=[]\n",
    "\n",
    "for i in range(0,x+1):\n",
    "    for j in range(0,y+1):\n",
    "        for k in range(0,z+1):\n",
    "            if (i+j+k!=n):\n",
    "                arr=[i,j,k]\n",
    "                List.append(arr)\n",
    "print(List)"
   ]
  },
  {
   "cell_type": "markdown",
   "metadata": {},
   "source": [
    "# Q.2 Find the Runner-Up Score!"
   ]
  },
  {
   "cell_type": "code",
   "execution_count": 2,
   "metadata": {},
   "outputs": [
    {
     "name": "stdout",
     "output_type": "stream",
     "text": [
      "enter the  no. of participant in the event: 6\n",
      "you entered : 6\n",
      "Entere the score of event: 10 22 45 23 29\n",
      "29 is the runner up score\n"
     ]
    }
   ],
   "source": [
    "while True:\n",
    "    try:\n",
    "        n=int(input(\"enter the  no. of participant in the event: \"))\n",
    "        if n>1 and n<11:\n",
    "            print(\"you entered :\",n)\n",
    "            break;\n",
    "        else:\n",
    "            print(\"enter a valid number it should be between 1 to 10\")\n",
    "    except ValueError:\n",
    "        print(\"enter a valid score:\")\n",
    "arr=map(int, input(\"Entere the score of event: \").split())\n",
    "\n",
    "print(sorted(list(set(arr)))[-2], \"is the runner up score\")\n"
   ]
  },
  {
   "cell_type": "markdown",
   "metadata": {},
   "source": [
    "# Q.3 Nested Lists"
   ]
  },
  {
   "cell_type": "code",
   "execution_count": 3,
   "metadata": {},
   "outputs": [
    {
     "name": "stdout",
     "output_type": "stream",
     "text": [
      "enter the number of students: 5\n",
      "you enterd 5 no. of students\n",
      "enter the name and marks of the studentsRana 45\n",
      "enter the name and marks of the studentsPrathap 40\n",
      "enter the name and marks of the studentsRathod 35\n",
      "enter the name and marks of the studentsNayak 34\n",
      "enter the name and marks of the studentsNenavath 41\n",
      "second lowest mark is {'Rana': [45.0], 'Prathap': [40.0], 'Rathod': [35.0], 'Nayak': [34.0], 'Nenavath': [41.0]}\n",
      "sorted value by ascending order {'Nayak': [34.0], 'Rathod': [35.0], 'Prathap': [40.0], 'Nenavath': [41.0], 'Rana': [45.0]}\n",
      "[35.0]\n",
      "second lowest marks obtained by:  ['Rathod']\n"
     ]
    }
   ],
   "source": [
    "while True:\n",
    "    try:\n",
    "        n=int(input(\"enter the number of students: \"))\n",
    "        if n>2 and n<6:\n",
    "            print(\"you enterd\",n,\"no. of students\")\n",
    "            \n",
    "            break;\n",
    "        else:\n",
    "            print(\"enter the valid stusents\")\n",
    "    except ValueError:\n",
    "        print(\"enter valid students\")\n",
    "student_marks = {}\n",
    "for i in range(n):\n",
    "    name, *line = input('enter the name and marks of the students: ').split()\n",
    "    scores = list(map(float, line))\n",
    "    student_marks[name] = scores\n",
    "    \n",
    "print(\"second lowest mark is\",student_marks)\n",
    "\n",
    "sorted_values=dict(sorted(student_marks.items(),key= lambda x:x[1]))\n",
    "\n",
    "print(\"sorted value by ascending order\",sorted_values)\n",
    "\n",
    "second_minimun=sorted(sorted_values.values())[1]\n",
    "print(second_minimun)\n",
    "res = [key for key in sorted_values if sorted_values[key] == second_minimun]\n",
    "print(\"second lowest marks obtained by: \", res)"
   ]
  },
  {
   "cell_type": "markdown",
   "metadata": {},
   "source": [
    "# Q.4 Finding the percentage"
   ]
  },
  {
   "cell_type": "code",
   "execution_count": 4,
   "metadata": {},
   "outputs": [
    {
     "name": "stdout",
     "output_type": "stream",
     "text": [
      "enter the number of students4\n",
      "enter the name and marks of the studentsRana 30 35 42 41\n",
      "enter the name and marks of the studentsPrathap 31 28 47 42\n",
      "enter the name and marks of the studentsRathod 26 47 40 43\n",
      "enter the name and marks of the studentsNayak 40 41 42 43\n",
      "Rathod\n",
      "39.0\n"
     ]
    }
   ],
   "source": [
    "n=int(input(\"enter the number of students\"))\n",
    "student_marks = {}\n",
    "total=0\n",
    "for _ in range(n):\n",
    "    name, *line = input('enter the name and marks of the students').split()\n",
    "    scores = list(map(float, line))\n",
    "    student_marks[name] = scores\n",
    "query_name = input()   \n",
    "\n",
    "for i in student_marks[query_name]:\n",
    "    total+=i\n",
    "    \n",
    "average=total / len(student_marks[query_name])\n",
    "\n",
    "print(average)"
   ]
  },
  {
   "cell_type": "markdown",
   "metadata": {},
   "source": [
    "# Q.5 Lists"
   ]
  },
  {
   "cell_type": "code",
   "execution_count": 5,
   "metadata": {},
   "outputs": [
    {
     "name": "stdout",
     "output_type": "stream",
     "text": [
      "Enter number of elements : 9\n",
      "\n",
      "Enter the numbers : 2 3 5 1 6 9 8 7 4\n",
      "\n",
      "List is :  [2, 3, 5, 1, 6, 9, 8, 7, 4]\n",
      "removing the first elementof the list :  [3, 5, 1, 6, 9, 8, 7, 4]\n",
      "enter the element to insert in list : 10\n",
      "inserting the element at the end of the list using insert method :  [3, 5, 1, 6, 9, 8, 7, 4, 10]\n",
      "enter the element : 2\n",
      "inserting the value using append method :  [3, 5, 1, 6, 9, 8, 7, 4, 10, 2]\n",
      "sorting the list :  [1, 2, 3, 4, 5, 6, 7, 8, 9, 10]\n",
      "removing the element from the list using pop method :  [1, 2, 3, 4, 5, 6, 7, 8, 9]\n",
      "reversing the list :  [9, 8, 7, 6, 5, 4, 3, 2, 1]\n"
     ]
    }
   ],
   "source": [
    "# number of elements\n",
    "n = int(input(\"Enter number of elements : \"))\n",
    "  \n",
    "# Below line read inputs from user using map() function \n",
    "a = list(map(int,input(\"\\nEnter the numbers : \").strip().split()))[:n]\n",
    "  \n",
    "print(\"\\nList is : \", a)\n",
    "\n",
    "a.remove(a[0])\n",
    "print(\"removing the first elementof the list : \",a)\n",
    "a.insert(n,int(input(\"enter the element to insert in list : \")))\n",
    "print(\"inserting the element at the end of the list using insert method : \",a)\n",
    "a.append(int(input(\"enter the element : \")))\n",
    "print(\"inserting the value using append method : \",a)\n",
    "a.sort()\n",
    "print(\"sorting the list : \",a)\n",
    "pop_ele=a.pop(len(a)-1)\n",
    "print(\"removing the element from the list using pop method : \",a)\n",
    "a.reverse()\n",
    "print(\"reversing the list : \",a)"
   ]
  },
  {
   "cell_type": "markdown",
   "metadata": {},
   "source": [
    "# Q.6 Tuples"
   ]
  },
  {
   "cell_type": "code",
   "execution_count": 6,
   "metadata": {},
   "outputs": [
    {
     "name": "stdout",
     "output_type": "stream",
     "text": [
      "enter the no. of list6\n",
      "9 5 3 7 1 6\n",
      "3274026792724514510\n"
     ]
    }
   ],
   "source": [
    "n = int(input(\"enter the no. of list\"))\n",
    "integer_list = map(int, input().split())\n",
    "t=tuple(integer_list)\n",
    "print(hash(t))\n"
   ]
  },
  {
   "cell_type": "markdown",
   "metadata": {},
   "source": [
    "# Q.7 Introduction to Sets"
   ]
  },
  {
   "cell_type": "code",
   "execution_count": 7,
   "metadata": {},
   "outputs": [
    {
     "name": "stdout",
     "output_type": "stream",
     "text": [
      "enter the no. of elements5\n",
      "9 2 3 7 5\n",
      "5.2\n"
     ]
    }
   ],
   "source": [
    "def avg(array): \n",
    "    average =sum(set(array))/len(set(array))\n",
    "    \n",
    "    return average;\n",
    "\n",
    "n = int(input(\"enter the no. of elements\"))\n",
    "array = list(map(int, input().split()))\n",
    "result=avg(array)\n",
    "print(result)\n"
   ]
  },
  {
   "cell_type": "markdown",
   "metadata": {},
   "source": [
    "# Q.8 No Idea!"
   ]
  },
  {
   "cell_type": "code",
   "execution_count": 8,
   "metadata": {},
   "outputs": [
    {
     "name": "stdout",
     "output_type": "stream",
     "text": [
      "3\n",
      "2 9 4\n",
      "9 7 5 1 3 4 8\n",
      "8 2 4 10 32 11 14\n",
      "1\n"
     ]
    }
   ],
   "source": [
    "m=int(input())\n",
    "n=map(int,input().split())\n",
    "\n",
    "happiness=0\n",
    "A = set(map(int, input().strip().split()))\n",
    "B = set(map(int, input().strip().split()))\n",
    "\n",
    "\n",
    "\n",
    "for i in n:\n",
    "    if i in A:\n",
    "        happiness += 1\n",
    "    elif i in B:\n",
    "        happiness -= 1\n",
    "\n",
    "print(happiness)"
   ]
  },
  {
   "cell_type": "markdown",
   "metadata": {},
   "source": [
    "# Q.9 Symmetric Difference"
   ]
  },
  {
   "cell_type": "code",
   "execution_count": 9,
   "metadata": {},
   "outputs": [
    {
     "name": "stdout",
     "output_type": "stream",
     "text": [
      "enter the n no.of inputs6\n",
      "enter elements of n set7 2 6 4 5 8\n",
      "{2, 4, 5, 6, 7, 8}\n",
      "enter the m no. of inputs6\n",
      "enter the elements of the m set7 2 1 3 11 10\n",
      "{1, 2, 3, 7, 10, 11}\n",
      "{8, 4, 5, 6}\n",
      "{11, 1, 10, 3}\n",
      "1\n",
      "3\n",
      "4\n",
      "5\n",
      "6\n",
      "8\n",
      "10\n",
      "11\n"
     ]
    }
   ],
   "source": [
    "n=int(input(\"enter the n no.of inputs\"))\n",
    "N=set(map(int, input(\"enter elements of n set\").split()))\n",
    "print(N)\n",
    "m=int(input(\"enter the m no. of inputs\"))\n",
    "M=set(map(int, input('enter the elements of the m set').split()))\n",
    "print(M)\n",
    "\n",
    "X = (N.difference(M))\n",
    "print(X)\n",
    "Y=(M.difference(N))\n",
    "print(Y)\n",
    "Z=X.union(Y)\n",
    "for i in sorted(list(Z)):\n",
    "        print(i)"
   ]
  },
  {
   "cell_type": "markdown",
   "metadata": {},
   "source": [
    "# Q.10 Set .add()"
   ]
  },
  {
   "cell_type": "code",
   "execution_count": 21,
   "metadata": {},
   "outputs": [
    {
     "name": "stdout",
     "output_type": "stream",
     "text": [
      "enter the total no.of country stamps5\n",
      "enter the country's nameIND\n",
      "enter the country's nameUSA\n",
      "enter the country's nameUK\n",
      "enter the country's nameIND\n",
      "enter the country's nameUAE\n",
      "4\n"
     ]
    }
   ],
   "source": [
    "n=int(input(\"enter the total no.of country stamps\"))\n",
    "\n",
    "country=set()\n",
    "for i in range(n):\n",
    "    country.add(input(\"enter the country's name\"))\n",
    "\n",
    "print(len(country))"
   ]
  },
  {
   "cell_type": "markdown",
   "metadata": {},
   "source": [
    "# Q.11 Set .discard(), .remove() & .pop()"
   ]
  },
  {
   "cell_type": "code",
   "execution_count": 22,
   "metadata": {},
   "outputs": [
    {
     "name": "stdout",
     "output_type": "stream",
     "text": [
      "enter the n no.of inputs4\n",
      "enter elements of n set7 5 3 9\n",
      "{9, 3, 5, 7}\n",
      "{3, 5, 7}\n",
      "enter the element to discored for the set: 8\n",
      "{3, 5, 7}\n",
      "enter the element to discored for the set: 7\n",
      "{3, 5}\n"
     ]
    }
   ],
   "source": [
    "n=int(input(\"enter the n no.of inputs\"))\n",
    "if n>0 and n<10:\n",
    "    N=set(map(int, input(\"enter elements of n set\").split()))\n",
    "    print(N)\n",
    "else:\n",
    "    print('wrong')\n",
    "N.pop()\n",
    "print(N)\n",
    "N.discard(int(input(\"enter the element to discored for the set: \")))\n",
    "print(N)\n",
    "N.remove(int(input(\"enter the element to discored for the set: \")))\n",
    "print(N)"
   ]
  },
  {
   "cell_type": "code",
   "execution_count": 23,
   "metadata": {},
   "outputs": [
    {
     "name": "stdout",
     "output_type": "stream",
     "text": [
      "enter the element to discored for the set: 8\n",
      "{3, 5}\n"
     ]
    }
   ],
   "source": [
    "N.discard(int(input(\"enter the element to discored for the set: \")))\n",
    "print(N)"
   ]
  },
  {
   "cell_type": "markdown",
   "metadata": {},
   "source": [
    "# Q.12 Set .union() Operation\n"
   ]
  },
  {
   "cell_type": "code",
   "execution_count": 24,
   "metadata": {},
   "outputs": [
    {
     "name": "stdout",
     "output_type": "stream",
     "text": [
      "enter the n no.of students subscription to English newspapers : 6\n",
      "enter roll numbers of a students having subscription to English : 1 2 3 4 5 6\n",
      "{'3', '2', '1', '6', '5', '4'}\n",
      "enter the m no. of students subscription to French newspapers : 5\n",
      "enter roll numbers of a students having subscription to French : 1 2 7 8 3\n",
      "{'3', '7', '2', '8', '1'}\n",
      "8\n"
     ]
    }
   ],
   "source": [
    "n=int(input(\"enter the n no.of students subscription to English newspapers : \"))\n",
    "N=set(input(\"enter roll numbers of a students having subscription to English : \").split())\n",
    "print(N)\n",
    "m=int(input(\"enter the m no. of students subscription to French newspapers : \"))\n",
    "M=set(input('enter roll numbers of a students having subscription to French : ').split())\n",
    "print(M)\n",
    "\n",
    "X = (N.intersection(M))\n",
    "Y=(N.union(M))\n",
    "\n",
    "\n",
    "Z=X.union(Y)\n",
    "    \n",
    "print(len(Z))"
   ]
  },
  {
   "cell_type": "markdown",
   "metadata": {},
   "source": [
    "# Q.13 Set .intersection() Operation"
   ]
  },
  {
   "cell_type": "code",
   "execution_count": 25,
   "metadata": {},
   "outputs": [
    {
     "name": "stdout",
     "output_type": "stream",
     "text": [
      "{'3', '1', '2'}\n",
      " total number of students who are subscribed to the English and French newspaper :  3\n"
     ]
    }
   ],
   "source": [
    "X = (N.intersection(M))\n",
    "print(X)\n",
    "print(\" total number of students who are subscribed to the English and French newspaper : \",len(X))"
   ]
  },
  {
   "cell_type": "markdown",
   "metadata": {},
   "source": [
    "# Q.14 Set .difference() Operation"
   ]
  },
  {
   "cell_type": "code",
   "execution_count": 26,
   "metadata": {},
   "outputs": [
    {
     "name": "stdout",
     "output_type": "stream",
     "text": [
      " total number of students who are subscribed to the English newspaper only :  3\n"
     ]
    }
   ],
   "source": [
    "A=N.difference(M)\n",
    "\n",
    "print(\" total number of students who are subscribed to the English newspaper only : \",len(X))"
   ]
  },
  {
   "cell_type": "markdown",
   "metadata": {},
   "source": [
    "# Q.15 Set .symmetric_difference() Operation"
   ]
  },
  {
   "cell_type": "code",
   "execution_count": 27,
   "metadata": {},
   "outputs": [
    {
     "name": "stdout",
     "output_type": "stream",
     "text": [
      "5\n"
     ]
    }
   ],
   "source": [
    "print(len(N.symmetric_difference(M)))"
   ]
  },
  {
   "cell_type": "markdown",
   "metadata": {},
   "source": [
    "# Q.16 Set Mutations"
   ]
  },
  {
   "cell_type": "code",
   "execution_count": 28,
   "metadata": {},
   "outputs": [
    {
     "name": "stdout",
     "output_type": "stream",
     "text": [
      "enter the no. of elements in set A : 6\n",
      "7 5 3 4 6 9\n",
      "enter tne no. of element in set B : 5\n",
      "7 4 3 9 2\n",
      "{2, 3, 4, 5, 6, 7, 9}\n",
      "{2, 3, 4, 7, 9}\n",
      "set()\n",
      "set()\n",
      "0\n"
     ]
    }
   ],
   "source": [
    "a = int(input(\"enter the no. of elements in set A : \"))\n",
    "A = set(map(int, input().split()))\n",
    "b=(int(input(\"enter tne no. of element in set B : \")))\n",
    "B = set(map(int, input().split()))\n",
    "\n",
    "\n",
    "\n",
    "A.update(B)\n",
    "print(A)\n",
    "\n",
    "A.intersection_update(B)\n",
    "print(A)\n",
    "\n",
    "A.symmetric_difference_update(B)\n",
    "print(A)\n",
    "\n",
    "A.difference_update(B)\n",
    "print(A)\n",
    "\n",
    "print(sum(A))  "
   ]
  },
  {
   "cell_type": "markdown",
   "metadata": {},
   "source": [
    "# Q.17 The Captain's Room"
   ]
  },
  {
   "cell_type": "code",
   "execution_count": 29,
   "metadata": {},
   "outputs": [
    {
     "name": "stdout",
     "output_type": "stream",
     "text": [
      "2\n",
      "1 2 3 4 1 2 4 3 8 6 8\n",
      "6\n"
     ]
    }
   ],
   "source": [
    "k = int(input())\n",
    "room = list(map(int, input().split()))\n",
    "room_list = set(room)\n",
    "\n",
    "captain_room=((sum(room_list)*k)-(sum(room)))//(k-1)\n",
    "\n",
    "print(captain_room)"
   ]
  },
  {
   "cell_type": "markdown",
   "metadata": {},
   "source": [
    "# Q.18 Check Subset"
   ]
  },
  {
   "cell_type": "code",
   "execution_count": 30,
   "metadata": {},
   "outputs": [
    {
     "name": "stdout",
     "output_type": "stream",
     "text": [
      "3\n",
      "5\n",
      "7 5 3 9 1\n",
      "4\n",
      "8 2 7 3\n",
      "False\n",
      "2\n",
      "4 3\n",
      "3\n",
      "4 5 6\n",
      "False\n",
      "3\n",
      "8 5 2\n",
      "2\n",
      "2 5\n",
      "False\n",
      "False\n",
      "False\n"
     ]
    }
   ],
   "source": [
    "T=int(input(\"enter any number to iterate : \"))\n",
    "for i in range(T):\n",
    "    a=int(input(\"enter the no. of elements in a set : \"))\n",
    "    A=set(input(\"enter the elememts in A set\").split())\n",
    "    b=int(input(\"enter the no. of elements in B set : \"))\n",
    "    B=set(input(\"enter the elements in set B : \").split())\n",
    "    if A.issubset(B):\n",
    "        print(\"True\")\n",
    "    else:\n",
    "        print(\"False\")\n",
    "\n",
    "print(A.issubset(B))\n",
    "print(A<=B)"
   ]
  },
  {
   "cell_type": "markdown",
   "metadata": {},
   "source": [
    "# Q.19 Check Strict Superset"
   ]
  },
  {
   "cell_type": "code",
   "execution_count": 31,
   "metadata": {},
   "outputs": [
    {
     "name": "stdout",
     "output_type": "stream",
     "text": [
      "7 5 4 9 8 3 \n",
      "3\n",
      "8 5 3 \n",
      "7 3 4\n",
      "8 5 2\n",
      "False\n"
     ]
    }
   ],
   "source": [
    "A=set(input(\"enter the elements of the set : \").split())\n",
    "for i in range(int(input(\"enter any number for iteration : \"))):\n",
    "     n=set(input().split())\n",
    "print(A.issuperset(n))\n"
   ]
  },
  {
   "cell_type": "code",
   "execution_count": null,
   "metadata": {},
   "outputs": [],
   "source": []
  }
 ],
 "metadata": {
  "kernelspec": {
   "display_name": "Python 3",
   "language": "python",
   "name": "python3"
  },
  "language_info": {
   "codemirror_mode": {
    "name": "ipython",
    "version": 3
   },
   "file_extension": ".py",
   "mimetype": "text/x-python",
   "name": "python",
   "nbconvert_exporter": "python",
   "pygments_lexer": "ipython3",
   "version": "3.7.6"
  }
 },
 "nbformat": 4,
 "nbformat_minor": 4
}
