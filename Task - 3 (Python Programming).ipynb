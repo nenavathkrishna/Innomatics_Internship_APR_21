{
 "cells": [
  {
   "cell_type": "markdown",
   "metadata": {},
   "source": [
    "# Q.1 Polar Coordinates"
   ]
  },
  {
   "cell_type": "code",
   "execution_count": 29,
   "metadata": {},
   "outputs": [
    {
     "name": "stdout",
     "output_type": "stream",
     "text": [
      "1\n",
      "2\n",
      "(1+2j)\n",
      "1.0\n",
      "2.0\n",
      "2.23606797749979\n",
      "1.1071487177940904\n"
     ]
    }
   ],
   "source": [
    "from cmath import phase, sqrt\n",
    "\n",
    "Z=complex(int(input()),int(input()))\n",
    "\n",
    "print(Z)\n",
    "print(Z.real)\n",
    "print(Z.imag)\n",
    "print(sqrt(pow(Z.real,2)+pow(Z.imag,2)).real)\n",
    "print(phase(Z))"
   ]
  },
  {
   "cell_type": "markdown",
   "metadata": {},
   "source": [
    "# Q.2 Find Angle triangle "
   ]
  },
  {
   "cell_type": "code",
   "execution_count": 88,
   "metadata": {},
   "outputs": [
    {
     "name": "stdout",
     "output_type": "stream",
     "text": [
      "enter the length of AB : 10\n",
      "enter the length of BC : 10\n",
      "14.142135623730951\n",
      "7.0710678118654755\n",
      "45°\n"
     ]
    }
   ],
   "source": [
    "import math\n",
    "from math import atan\n",
    "a=float(input(\"enter the length of AB : \"))\n",
    "b=float(input(\"enter the length of BC : \"))\n",
    "\n",
    "# we know that given triangle is Right angle Triangle so angle of ABC is 90 degrees \n",
    "\n",
    "# To find the hypotenuse we use pythagoras theorem\n",
    "\n",
    "c=sqrt(a**2+b**2).real\n",
    "print(c)\n",
    "\n",
    "# To find mid_point of the hypotenuse\n",
    "\n",
    "M=(c/2.0).real\n",
    "print(M)\n",
    "\n",
    "# we know that angle of BCA is equal to angle of MBC\n",
    "\n",
    "#To find angle of BCA we have to calculate Tan(C)=AB/BC\n",
    "\n",
    "angle = int(round(math.degrees(atan(a/b))))\n",
    "\n",
    "angle = str(angle)\n",
    "\n",
    "print(angle+\"°\")\n"
   ]
  },
  {
   "cell_type": "markdown",
   "metadata": {},
   "source": [
    "# Q.3 Triangle Quest 2"
   ]
  },
  {
   "cell_type": "code",
   "execution_count": 89,
   "metadata": {},
   "outputs": [
    {
     "name": "stdout",
     "output_type": "stream",
     "text": [
      "5\n",
      "1\n",
      "121\n",
      "12321\n",
      "1234321\n",
      "123454321\n"
     ]
    }
   ],
   "source": [
    "def palindrome(N):\n",
    "    for i in range(1, N + 1):\n",
    "        print(int('1' * i)**2)\n",
    "\n",
    "palindrome(int(input()))"
   ]
  },
  {
   "cell_type": "markdown",
   "metadata": {},
   "source": [
    "# Q.4 Mod Divmod"
   ]
  },
  {
   "cell_type": "code",
   "execution_count": 92,
   "metadata": {},
   "outputs": [
    {
     "name": "stdout",
     "output_type": "stream",
     "text": [
      "enter the first number : 117\n",
      "rnter the second number :10\n",
      "11\n",
      "7\n",
      "(11, 7)\n"
     ]
    }
   ],
   "source": [
    "a=int(input(\"enter the first number : \"))\n",
    "b=int(input(\"rnter the second number :\"))\n",
    "X=a//b\n",
    "print(X)\n",
    "print(a%b)\n",
    "print(divmod(a,b))"
   ]
  },
  {
   "cell_type": "markdown",
   "metadata": {},
   "source": [
    "# Q.5 Power - Mod Power"
   ]
  },
  {
   "cell_type": "code",
   "execution_count": 97,
   "metadata": {},
   "outputs": [
    {
     "name": "stdout",
     "output_type": "stream",
     "text": [
      "enter the first number : 4\n",
      "rnter the second number :2\n",
      "enter the modulo of a and b : 3\n",
      "16\n",
      "16 is a modulo of 1\n"
     ]
    }
   ],
   "source": [
    "a=int(input(\"enter the first number : \"))\n",
    "b=int(input(\"rnter the second number :\"))\n",
    "m=int(input(\"enter the modulo of a and b : \"))\n",
    "\n",
    "X=pow(a,b)\n",
    "print(X)\n",
    "\n",
    "print(X,\"is a modulo of\",pow(a,b,m))"
   ]
  },
  {
   "cell_type": "markdown",
   "metadata": {},
   "source": [
    "# Q.6 Integers Come In All Sizes"
   ]
  },
  {
   "cell_type": "code",
   "execution_count": 99,
   "metadata": {},
   "outputs": [
    {
     "name": "stdout",
     "output_type": "stream",
     "text": [
      "enter the first number : 9\n",
      "enter the second number :29\n",
      "enter the third number : 7\n",
      "enter the fourth number27\n",
      "4710194409608608369201743232\n"
     ]
    }
   ],
   "source": [
    "a=int(input(\"enter the first number : \"))\n",
    "b=int(input(\"enter the second number :\"))\n",
    "c=int(input(\"enter the third number : \"))\n",
    "d=int(input(\"enter the fourth number\"))\n",
    "\n",
    "print((a**b)+(c**d))"
   ]
  },
  {
   "cell_type": "markdown",
   "metadata": {},
   "source": [
    "# Q.7 Triangle Quest"
   ]
  },
  {
   "cell_type": "code",
   "execution_count": 103,
   "metadata": {},
   "outputs": [
    {
     "name": "stdout",
     "output_type": "stream",
     "text": [
      "5\n",
      "1\n",
      "22\n",
      "333\n",
      "4444\n"
     ]
    }
   ],
   "source": [
    "for i in range(1,int(input())):\n",
    "    print(str(i)*i)"
   ]
  },
  {
   "cell_type": "code",
   "execution_count": 104,
   "metadata": {},
   "outputs": [
    {
     "name": "stdout",
     "output_type": "stream",
     "text": [
      "5\n",
      "1\n",
      "22\n",
      "333\n",
      "4444\n"
     ]
    }
   ],
   "source": [
    "for i in range(1,int(input())): #More than 2 lines will result in 0 score. Do not leave a blank line also\n",
    "    print(i * (10 ** i - 1) // 9)"
   ]
  },
  {
   "cell_type": "code",
   "execution_count": null,
   "metadata": {},
   "outputs": [],
   "source": []
  }
 ],
 "metadata": {
  "kernelspec": {
   "display_name": "Python 3",
   "language": "python",
   "name": "python3"
  },
  "language_info": {
   "codemirror_mode": {
    "name": "ipython",
    "version": 3
   },
   "file_extension": ".py",
   "mimetype": "text/x-python",
   "name": "python",
   "nbconvert_exporter": "python",
   "pygments_lexer": "ipython3",
   "version": "3.7.6"
  }
 },
 "nbformat": 4,
 "nbformat_minor": 4
}
