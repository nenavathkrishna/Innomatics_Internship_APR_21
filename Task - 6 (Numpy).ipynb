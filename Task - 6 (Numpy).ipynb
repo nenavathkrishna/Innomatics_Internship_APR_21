{
 "cells": [
  {
   "cell_type": "markdown",
   "metadata": {},
   "source": [
    "# Q.1 Arrays"
   ]
  },
  {
   "cell_type": "code",
   "execution_count": 2,
   "metadata": {},
   "outputs": [
    {
     "name": "stdout",
     "output_type": "stream",
     "text": [
      "1 2 3 4 5 -12 -5\n",
      "[ -5. -12.   5.   4.   3.   2.   1.]\n"
     ]
    }
   ],
   "source": [
    "import numpy as np\n",
    "def arrays(arr):\n",
    "    # complete this function\n",
    "    # use numpy.array\n",
    "    arr=np.array(arr, float)[::-1]\n",
    "    return arr\n",
    "    \n",
    "\n",
    "arr = input().strip().split(' ')\n",
    "result = arrays(arr)\n",
    "print(result)"
   ]
  },
  {
   "cell_type": "markdown",
   "metadata": {},
   "source": [
    "# Q.2 Shape and Reshape"
   ]
  },
  {
   "cell_type": "code",
   "execution_count": 9,
   "metadata": {},
   "outputs": [
    {
     "name": "stdout",
     "output_type": "stream",
     "text": [
      "1 2 3 4 5 6 7 8 9\n",
      "[1 2 3 4 5 6 7 8 9]\n",
      "(9,)\n",
      "[[1 2 3]\n",
      " [4 5 6]\n",
      " [7 8 9]]\n"
     ]
    }
   ],
   "source": [
    "# creating user defined list of array\n",
    "l=np.array(input().split(), int)\n",
    "\n",
    "# printing the array of list\n",
    "print(l)\n",
    "\n",
    "# printing the shape of the list \"l\"\n",
    "print(l.shape)\n",
    "\n",
    "# Shape function used to change the dimensions of an array\n",
    "l.shape=(3,3)\n",
    "print(l)"
   ]
  },
  {
   "cell_type": "code",
   "execution_count": 10,
   "metadata": {},
   "outputs": [
    {
     "name": "stdout",
     "output_type": "stream",
     "text": [
      "[[1 2 3]\n",
      " [4 5 6]\n",
      " [7 8 9]]\n"
     ]
    }
   ],
   "source": [
    "# Using the reshape function to change the dimension of an array\n",
    "print(np.reshape(l,(3,3)))"
   ]
  },
  {
   "cell_type": "markdown",
   "metadata": {},
   "source": [
    "# Q.3 Transpose and Flatten"
   ]
  },
  {
   "cell_type": "code",
   "execution_count": 17,
   "metadata": {},
   "outputs": [
    {
     "name": "stdout",
     "output_type": "stream",
     "text": [
      "enter the number of rows in array list : 2\n",
      "enter the no. of columns in array list : 3\n",
      "1 2 3 4 5 6\n",
      "[[1 2 3]\n",
      " [4 5 6]]\n",
      "[[1 4]\n",
      " [2 5]\n",
      " [3 6]]\n",
      "[1 2 3 4 5 6]\n"
     ]
    }
   ],
   "source": [
    "# define the number of rows and columns N and M\n",
    "N=int(input(\"enter the number of rows in array list : \"))\n",
    "M=int(input(\"enter the no. of columns in array list : \"))\n",
    "\n",
    "# Ceating and print user define array list and dimension of an array\n",
    "l=np.array(input().split(), int)\n",
    "List=np.reshape(l, (N,M))\n",
    "print(List)\n",
    "\n",
    "# printing the transposition of an array using the tool numpy.transpose.\n",
    "print(np.transpose(List))\n",
    "\n",
    "# The tool flatten creates a copy of the input array flattened to one dimension.\n",
    "print(List.flatten())"
   ]
  },
  {
   "cell_type": "code",
   "execution_count": 19,
   "metadata": {},
   "outputs": [
    {
     "name": "stdout",
     "output_type": "stream",
     "text": [
      "2 2 \n",
      "1 2 \n",
      "3 4\n",
      "[[1 3]\n",
      " [2 4]]\n",
      "[1 2 3 4]\n"
     ]
    }
   ],
   "source": [
    "N,M=map(int ,input().split())\n",
    "\n",
    "List = np.array( [(input().split()) for i in range(N)] , int)\n",
    "print(np.transpose(List))\n",
    "print(List.flatten())"
   ]
  },
  {
   "cell_type": "markdown",
   "metadata": {},
   "source": [
    "# Q.4 Concatenate"
   ]
  },
  {
   "cell_type": "code",
   "execution_count": 29,
   "metadata": {},
   "outputs": [
    {
     "name": "stdout",
     "output_type": "stream",
     "text": [
      "4 3 2\n",
      "1 2\n",
      "1 2\n",
      "1 2\n",
      "1 2\n",
      "3 4\n",
      "3 4\n",
      "3 4\n",
      "******************************\n",
      "[[1 2]\n",
      " [1 2]\n",
      " [1 2]\n",
      " [1 2]]\n",
      "******************************\n",
      "[[3 4]\n",
      " [3 4]\n",
      " [3 4]]\n",
      "******************************\n",
      "[[1 2]\n",
      " [1 2]\n",
      " [1 2]\n",
      " [1 2]\n",
      " [3 4]\n",
      " [3 4]\n",
      " [3 4]]\n"
     ]
    }
   ],
   "source": [
    "import numpy as np\n",
    "N,M,P=map(int, input().split())\n",
    "\n",
    "# Creating and print user define array list and dimension of an array\n",
    "arr_1=np.array([input().split() for i in range(N)],int)\n",
    "arr_2=np.array([input().split() for j in range(M)], int)\n",
    "print('*'*30)\n",
    "print(arr_1)\n",
    "print('*'*30)\n",
    "print(arr_2)\n",
    "print('*'*30)\n",
    "# Two or more arrays can be concatenated together using the concatenate function with a tuple of the arrays to be joined\n",
    "print(np.concatenate((arr_1,arr_2), axis=0))"
   ]
  },
  {
   "cell_type": "markdown",
   "metadata": {},
   "source": [
    "# Q.5 Zeros and Ones"
   ]
  },
  {
   "cell_type": "code",
   "execution_count": 32,
   "metadata": {},
   "outputs": [
    {
     "name": "stdout",
     "output_type": "stream",
     "text": [
      "3 3 3\n",
      "[[[0 0 0]\n",
      "  [0 0 0]\n",
      "  [0 0 0]]\n",
      "\n",
      " [[0 0 0]\n",
      "  [0 0 0]\n",
      "  [0 0 0]]\n",
      "\n",
      " [[0 0 0]\n",
      "  [0 0 0]\n",
      "  [0 0 0]]]\n",
      "[[[1 1 1]\n",
      "  [1 1 1]\n",
      "  [1 1 1]]\n",
      "\n",
      " [[1 1 1]\n",
      "  [1 1 1]\n",
      "  [1 1 1]]\n",
      "\n",
      " [[1 1 1]\n",
      "  [1 1 1]\n",
      "  [1 1 1]]]\n"
     ]
    }
   ],
   "source": [
    "\n",
    "N=list(map(int, input().split()))\n",
    "\n",
    "print(np.zeros(N,int))\n",
    "print(np.ones(N, int))"
   ]
  },
  {
   "cell_type": "markdown",
   "metadata": {},
   "source": [
    "# Q.6 Eye and Identity"
   ]
  },
  {
   "cell_type": "code",
   "execution_count": 49,
   "metadata": {},
   "outputs": [
    {
     "name": "stdout",
     "output_type": "stream",
     "text": [
      "3 3\n",
      "[[ 1.  0.  0.]\n",
      " [ 0.  1.  0.]\n",
      " [ 0.  0.  1.]]\n"
     ]
    }
   ],
   "source": [
    "import numpy as np\n",
    "\n",
    "# In order to get alignment correct, we have to insert the line \"np.set_printoptions(legacy='1.13')\"\n",
    "np.set_printoptions(legacy='1.13')\n",
    "N,M=list(map(int, input().split()))\n",
    "\n",
    "# The identity tool returns an identity array\n",
    "print(np.identity(N))"
   ]
  },
  {
   "cell_type": "code",
   "execution_count": 50,
   "metadata": {},
   "outputs": [
    {
     "name": "stdout",
     "output_type": "stream",
     "text": [
      "[[ 1.  0.  0.]\n",
      " [ 0.  1.  0.]\n",
      " [ 0.  0.  1.]]\n"
     ]
    }
   ],
   "source": [
    "# The eye tool returns a 2-D array with 1's as the diagonal and 0's elsewhere. \n",
    "# The diagonal can be main, upper or lower depending on the optional parameter k.\n",
    "# A positive k is for the upper diagonal, a negative k is for the lower, and a k=0  (default) is for the main diagonal.\n",
    "print(np.eye(N,M, k=0))"
   ]
  },
  {
   "cell_type": "markdown",
   "metadata": {},
   "source": [
    "# Q.7 Array Mathematics"
   ]
  },
  {
   "cell_type": "code",
   "execution_count": 57,
   "metadata": {},
   "outputs": [
    {
     "name": "stdout",
     "output_type": "stream",
     "text": [
      "1 4\n",
      "1 2 3 4\n",
      "5 6 7 8\n",
      "adding two arrays elements wise : [[ 6  8 10 12]]\n",
      "substacting two arrays element wise : [[-4 -4 -4 -4]]\n",
      "multipling two arrays element wise [[ 5 12 21 32]]\n",
      "Integer Division of two arrays element wise : [[0 0 0 0]]\n",
      "modulos of A and B :  [[1 2 3 4]]\n",
      "power of the elements of two arrays :  [[    1    64  2187 65536]]\n"
     ]
    }
   ],
   "source": [
    "N,M=map(int ,input().split())\n",
    "\n",
    "A = np.array( [(input().split()) for i in range(N)] , int)\n",
    "B = np.array( [(input().split()) for i in range(N)] , int)\n",
    "\n",
    "# adding the element wise in two arrays\n",
    "print(\"adding two arrays elements wise :\",A+B)\n",
    "\n",
    "# substracting the elements of B from A\n",
    "print(\"substacting two arrays element wise :\",A-B)\n",
    "\n",
    "# multipling the elements of two arrays\n",
    "print(\"multipling two arrays element wise\",A*B)\n",
    "\n",
    "# divideing the elements of the two arrays\n",
    "print(\"Integer Division of two arrays element wise :\",A//B)\n",
    "\n",
    "# modulo of the elements wise of the two arrays\n",
    "print(\"modulos of A and B : \",A%B)\n",
    "\n",
    "# powes of the element-wise in two arrays\n",
    "print(\"power of the elements of two arrays : \",A**B)"
   ]
  },
  {
   "cell_type": "code",
   "execution_count": 56,
   "metadata": {},
   "outputs": [
    {
     "name": "stdout",
     "output_type": "stream",
     "text": [
      "[[ 6  8 10 12]]\n",
      "[[-4 -4 -4 -4]]\n",
      "[[ 5 12 21 32]]\n",
      "[[ 0.2         0.33333333  0.42857143  0.5       ]]\n",
      "[[1 2 3 4]]\n",
      "[[    1    64  2187 65536]]\n"
     ]
    }
   ],
   "source": [
    "print(np.add(A,B))\n",
    "print(np.subtract(A,B))\n",
    "print(np.multiply(A,B))\n",
    "print(np.divide(A,B))\n",
    "print(np.mod(A,B))\n",
    "print(np.power(A,B))"
   ]
  },
  {
   "cell_type": "markdown",
   "metadata": {},
   "source": [
    "# Q.8 Floor, Ceil and Rint "
   ]
  },
  {
   "cell_type": "code",
   "execution_count": 65,
   "metadata": {},
   "outputs": [
    {
     "name": "stdout",
     "output_type": "stream",
     "text": [
      "1.1 2.2 3.3 4.4 5.5 6.6 7.7 8.8 9.9\n",
      "[ 1.1  2.2  3.3  4.4  5.5  6.6  7.7  8.8  9.9]\n",
      "[ 1.  2.  3.  4.  5.  6.  7.  8.  9.]\n",
      "[  2.   3.   4.   5.   6.   7.   8.   9.  10.]\n",
      "[  1.   2.   3.   4.   6.   7.   8.   9.  10.]\n"
     ]
    }
   ],
   "source": [
    "# creating an user define array\n",
    "A=np.array(input().split(), float)\n",
    "np.set_printoptions(legacy='1.13')\n",
    "\n",
    "# printing the list of an array\n",
    "print(A)\n",
    "\n",
    "# The tool floor returns the floor of the input element-wise.\n",
    "print(np.floor(A))\n",
    "\n",
    "# The tool ceil returns the ceiling of the input element-wise.\n",
    "print(np.ceil(A))\n",
    "\n",
    "# The rint tool rounds to the nearest integer of input element-wise.\n",
    "print(np.rint(A))"
   ]
  },
  {
   "cell_type": "markdown",
   "metadata": {},
   "source": [
    "# Q.9 Sum and Prod"
   ]
  },
  {
   "cell_type": "markdown",
   "metadata": {},
   "source": [
    "### Task\n",
    "\n",
    "#### You are given a 2-D array with dimensions $N \\times M$.\n",
    "#### Your task is to perform the sum tool over axis 0 and then find the product of that result."
   ]
  },
  {
   "cell_type": "code",
   "execution_count": 78,
   "metadata": {},
   "outputs": [
    {
     "name": "stdout",
     "output_type": "stream",
     "text": [
      "3 3\n",
      "1 1 1\n",
      "1 1 1\n",
      "1 1 1\n",
      "****************************************\n",
      "[[1 1 1]\n",
      " [1 1 1]\n",
      " [1 1 1]]\n",
      "****************************************\n",
      "9\n",
      "****************************************\n",
      "[3 3 3]\n",
      "****************************************\n",
      "[3 3 3]\n",
      "****************************************\n",
      "1\n",
      "****************************************\n",
      "[1 1 1]\n",
      "****************************************\n",
      "[1 1 1]\n",
      "****************************************\n",
      "9\n",
      "27\n",
      "27\n",
      "****************************************\n",
      "1\n",
      "3\n",
      "3\n"
     ]
    }
   ],
   "source": [
    "# ceating the user define array\n",
    "N,M=map(int ,input().split())\n",
    "List = np.array( [(input().split()) for i in range(N)] , int)\n",
    "print(\"*\"*40)\n",
    "# printing the list of array\n",
    "print(List)\n",
    "print(\"*\"*40)\n",
    "# The sum tool returns the sum of array elements over a given axis.\n",
    "print(np.sum(List))\n",
    "\n",
    "print(\"*\"*40)\n",
    "print(np.sum(List, axis=0))\n",
    "print(\"*\"*40)\n",
    "print(np.sum(List, axis=1))\n",
    "print(\"*\"*40)\n",
    "# The prod tool returns the product of array elements over a given axis.\n",
    "print(np.prod(List))\n",
    "print(\"*\"*40)\n",
    "print(np.prod(List, axis=0))\n",
    "print(\"*\"*40)\n",
    "print(np.prod(List, axis=1))\n",
    "print(\"*\"*40)\n",
    "# To perform the sum tool over axis 0 and then find the product of that result.\n",
    "print(np.prod(np.sum(List)))\n",
    "print(np.prod(np.sum(List, axis=0)))\n",
    "print(np.prod(np.sum(List, axis=1)))\n",
    "print(\"*\"*40)\n",
    "# To perform the prod tool over axis 0 and then find the sum of that result.\n",
    "print(np.sum(np.prod(List)))\n",
    "print(np.sum(np.prod(List, axis=0)))\n",
    "print(np.sum(np.prod(List, axis=1)))"
   ]
  },
  {
   "cell_type": "markdown",
   "metadata": {},
   "source": [
    "# Q.10 Min and Max"
   ]
  },
  {
   "cell_type": "code",
   "execution_count": 80,
   "metadata": {},
   "outputs": [
    {
     "name": "stdout",
     "output_type": "stream",
     "text": [
      "4 2\n",
      "2 5\n",
      "3 7\n",
      "1 3\n",
      "4 0\n",
      "[[2 5]\n",
      " [3 7]\n",
      " [1 3]\n",
      " [4 0]]\n",
      "****************************************\n",
      "0\n",
      "[1 0]\n",
      "[2 3 1 0]\n",
      "****************************************\n",
      "7\n",
      "[4 7]\n",
      "[5 7 3 4]\n",
      "****************************************\n",
      "0\n",
      "1\n",
      "3\n"
     ]
    }
   ],
   "source": [
    "# ceating the user define array\n",
    "N,M=map(int ,input().split())\n",
    "List = np.array( [(input().split()) for i in range(N)] , int)\n",
    "print(List)\n",
    "print(\"*\"*40)\n",
    "\n",
    "# The tool min returns the minimum value along a given axis.\n",
    "print(np.min(List))\n",
    "print(np.min(List, axis=0))\n",
    "print(np.min(List, axis=1))\n",
    "print(\"*\"*40)\n",
    "\n",
    "# The tool max returns the maximum value along a given axis.\n",
    "print(np.max(List))\n",
    "print(np.max(List, axis=0))\n",
    "print(np.max(List, axis=1))\n",
    "print(\"*\"*40)\n",
    "\n",
    "# To perform the min function over axis 1 and then find the max of that.\n",
    "print(np.max(np.min(List)))\n",
    "print(np.max(np.min(List, axis=0)))\n",
    "print(np.max(np.min(List, axis=1)))"
   ]
  },
  {
   "cell_type": "markdown",
   "metadata": {},
   "source": [
    "# Q.11 Mean, Var, and Std"
   ]
  },
  {
   "cell_type": "markdown",
   "metadata": {},
   "source": [
    "You are given a 2-D array of size $ N \\times M $.\n",
    "\n",
    "### Task is to find:\n",
    "\n",
    "##### The mean along axis \n",
    "##### The var along axis \n",
    "##### The std along axis "
   ]
  },
  {
   "cell_type": "code",
   "execution_count": 82,
   "metadata": {},
   "outputs": [
    {
     "name": "stdout",
     "output_type": "stream",
     "text": [
      "2 2\n",
      "1 2\n",
      "3 4\n",
      "[[1 2]\n",
      " [3 4]]\n",
      "****************************************\n",
      "2.5\n",
      "[ 2.  3.]\n",
      "[ 1.5  3.5]\n",
      "****************************************\n",
      "1.25\n",
      "[ 1.  1.]\n",
      "[ 0.25  0.25]\n",
      "****************************************\n",
      "1.11803398875\n",
      "[ 1.  1.]\n",
      "[ 0.5  0.5]\n"
     ]
    }
   ],
   "source": [
    "# ceating the user define array\n",
    "N,M=map(int ,input().split())\n",
    "List = np.array( [input().split() for i in range(N)] , int)\n",
    "print(List)\n",
    "print(\"*\"*40)\n",
    "\n",
    "# The mean along axis\n",
    "print(np.mean(List))\n",
    "print(np.mean(List, axis=0))\n",
    "print(np.mean(List, axis=1))\n",
    "print(\"*\"*40)\n",
    "\n",
    "# The var along axis\n",
    "print(np.var(List))\n",
    "print(np.var(List, axis=0))\n",
    "print(np.var(List, axis=1))\n",
    "print(\"*\"*40)\n",
    "\n",
    "# The std along axis\n",
    "print(np.std(List))\n",
    "print(np.std(List, axis=0))\n",
    "print(np.std(List, axis=1))"
   ]
  },
  {
   "cell_type": "markdown",
   "metadata": {},
   "source": [
    "# Q.12 Dot and Cross"
   ]
  },
  {
   "cell_type": "code",
   "execution_count": 89,
   "metadata": {},
   "outputs": [
    {
     "name": "stdout",
     "output_type": "stream",
     "text": [
      "2\n",
      "1 2\n",
      "3 4\n",
      "1 2\n",
      "3 4\n",
      "--%----%----%----%----%----%----%----%----%----%--\n",
      "A :  [[1 2]\n",
      " [3 4]]\n",
      "B :  [[1 2]\n",
      " [3 4]]\n",
      "--%----%----%----%----%----%----%----%----%----%--\n",
      "[[ 7 10]\n",
      " [15 22]]\n",
      "--%----%----%----%----%----%----%----%----%----%--\n",
      "[0 0]\n"
     ]
    }
   ],
   "source": [
    "# You are given two arrays A and B. Both have dimensions of NXN.\n",
    "N=int(input())\n",
    "A = np.array( [(input().split()) for i in range(N)] , int)\n",
    "B = np.array( [(input().split()) for i in range(N)] , int)\n",
    "print(\"--%--\"*10)\n",
    "\n",
    "# printing the matrices' \n",
    "print(\"A : \",A)\n",
    "print(\"B : \",B)\n",
    "print(\"--%--\"*10)\n",
    "\n",
    "# The dot tool returns the dot product of two arrays.\n",
    "print(np.dot(A,B))\n",
    "print(\"--%--\"*10)\n",
    "\n",
    "# The cross tool returns the cross product of two arrays.\n",
    "print(np.cross(A,B))"
   ]
  },
  {
   "cell_type": "markdown",
   "metadata": {},
   "source": [
    "# Q.13 Inner and Outer"
   ]
  },
  {
   "cell_type": "code",
   "execution_count": 94,
   "metadata": {},
   "outputs": [
    {
     "name": "stdout",
     "output_type": "stream",
     "text": [
      "0 1\n",
      "2 3\n",
      "******************************\n",
      "[0 1]\n",
      "[2 3]\n",
      "******************************\n",
      "3\n",
      "******************************\n",
      "[[0 0]\n",
      " [2 3]]\n"
     ]
    }
   ],
   "source": [
    "A = np.array( (input().split())  , int)\n",
    "B = np.array( (input().split())  , int)\n",
    "print(\"*\"*30)\n",
    "print(A)\n",
    "print(B)\n",
    "print(\"*\"*30)\n",
    "\n",
    "#The inner tool returns the inner product of two arrays.\n",
    "print(np.inner(A,B))\n",
    "print(\"*\"*30)\n",
    "\n",
    "# The outer tool returns the outer product of two arrays.\n",
    "print(np.outer(A,B))"
   ]
  },
  {
   "cell_type": "markdown",
   "metadata": {},
   "source": [
    "# Q.14 Polynomials"
   ]
  },
  {
   "cell_type": "code",
   "execution_count": 101,
   "metadata": {},
   "outputs": [
    {
     "name": "stdout",
     "output_type": "stream",
     "text": [
      "1.1 2 3\n",
      "[ 1.1  2.   3. ]\n",
      "0\n",
      "3.0\n"
     ]
    }
   ],
   "source": [
    "# creating the coefficients of a polynomial .\n",
    "P=np.array( (input().split())  , float)\n",
    "\n",
    "# printing the polynomial \n",
    "print(P)\n",
    "\n",
    "# giving the contains the value of x\n",
    "x=float(input())\n",
    "\n",
    "# Print the desired value.\n",
    "print(np.polyval(P,x))"
   ]
  },
  {
   "cell_type": "markdown",
   "metadata": {},
   "source": [
    "# Q.15 Linear Algebra"
   ]
  },
  {
   "cell_type": "code",
   "execution_count": 105,
   "metadata": {},
   "outputs": [
    {
     "name": "stdout",
     "output_type": "stream",
     "text": [
      "2\n",
      "1.1 1.1\n",
      "1.1 1.2\n",
      "******************************\n",
      "[[ 1.1  1.1]\n",
      " [ 1.1  1.2]]\n",
      "******************************\n",
      "0.11\n"
     ]
    }
   ],
   "source": [
    "# ceating the user define array\n",
    "N=int(input())\n",
    "A = np.array( [(input().split()) for i in range(N)] , float)\n",
    "print(\"*\"*30)\n",
    "\n",
    "# printing the array\n",
    "print(A)\n",
    "print(\"*\"*30)\n",
    "\n",
    "# Print the determinant of A.\n",
    "print(np.linalg.det(A))\n"
   ]
  },
  {
   "cell_type": "code",
   "execution_count": null,
   "metadata": {},
   "outputs": [],
   "source": []
  }
 ],
 "metadata": {
  "kernelspec": {
   "display_name": "Python 3",
   "language": "python",
   "name": "python3"
  },
  "language_info": {
   "codemirror_mode": {
    "name": "ipython",
    "version": 3
   },
   "file_extension": ".py",
   "mimetype": "text/x-python",
   "name": "python",
   "nbconvert_exporter": "python",
   "pygments_lexer": "ipython3",
   "version": "3.7.6"
  }
 },
 "nbformat": 4,
 "nbformat_minor": 4
}
